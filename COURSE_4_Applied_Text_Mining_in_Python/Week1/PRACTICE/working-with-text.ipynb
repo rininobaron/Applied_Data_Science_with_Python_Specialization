{
 "cells": [
  {
   "cell_type": "markdown",
   "id": "8bc29a5b",
   "metadata": {
    "papermill": {
     "duration": 0.005148,
     "end_time": "2023-10-11T20:50:52.649434",
     "exception": false,
     "start_time": "2023-10-11T20:50:52.644286",
     "status": "completed"
    },
    "tags": []
   },
   "source": [
    "---\n",
    "\n",
    "_You are currently looking at **version 1.0** of this notebook. To download notebooks and datafiles, as well as get help on Jupyter notebooks in the Coursera platform, visit the [Jupyter Notebook FAQ](https://www.coursera.org/learn/python-text-mining/resources/d9pwm) course resource._\n",
    "\n",
    "---"
   ]
  },
  {
   "cell_type": "markdown",
   "id": "fcfdda6f",
   "metadata": {
    "papermill": {
     "duration": 0.005023,
     "end_time": "2023-10-11T20:50:52.659358",
     "exception": false,
     "start_time": "2023-10-11T20:50:52.654335",
     "status": "completed"
    },
    "tags": []
   },
   "source": [
    "# Working With Text"
   ]
  },
  {
   "cell_type": "code",
   "execution_count": 1,
   "id": "a4b826eb",
   "metadata": {
    "execution": {
     "iopub.execute_input": "2023-10-11T20:50:52.672494Z",
     "iopub.status.busy": "2023-10-11T20:50:52.671841Z",
     "iopub.status.idle": "2023-10-11T20:50:52.685202Z",
     "shell.execute_reply": "2023-10-11T20:50:52.683558Z"
    },
    "papermill": {
     "duration": 0.022913,
     "end_time": "2023-10-11T20:50:52.687867",
     "exception": false,
     "start_time": "2023-10-11T20:50:52.664954",
     "status": "completed"
    },
    "tags": []
   },
   "outputs": [
    {
     "data": {
      "text/plain": [
       "76"
      ]
     },
     "execution_count": 1,
     "metadata": {},
     "output_type": "execute_result"
    }
   ],
   "source": [
    "text1 = \"Ethics are built right into the ideals and objectives of the United Nations \"\n",
    "\n",
    "len(text1) # The length of text1"
   ]
  },
  {
   "cell_type": "code",
   "execution_count": 2,
   "id": "1ee15323",
   "metadata": {
    "execution": {
     "iopub.execute_input": "2023-10-11T20:50:52.699815Z",
     "iopub.status.busy": "2023-10-11T20:50:52.699456Z",
     "iopub.status.idle": "2023-10-11T20:50:52.707988Z",
     "shell.execute_reply": "2023-10-11T20:50:52.706474Z"
    },
    "papermill": {
     "duration": 0.017571,
     "end_time": "2023-10-11T20:50:52.710652",
     "exception": false,
     "start_time": "2023-10-11T20:50:52.693081",
     "status": "completed"
    },
    "tags": []
   },
   "outputs": [
    {
     "data": {
      "text/plain": [
       "14"
      ]
     },
     "execution_count": 2,
     "metadata": {},
     "output_type": "execute_result"
    }
   ],
   "source": [
    "text2 = text1.split(' ') # Return a list of the words in text2, separating by ' '.\n",
    "\n",
    "len(text2)"
   ]
  },
  {
   "cell_type": "code",
   "execution_count": 3,
   "id": "63bc794c",
   "metadata": {
    "execution": {
     "iopub.execute_input": "2023-10-11T20:50:52.725552Z",
     "iopub.status.busy": "2023-10-11T20:50:52.725121Z",
     "iopub.status.idle": "2023-10-11T20:50:52.733484Z",
     "shell.execute_reply": "2023-10-11T20:50:52.732004Z"
    },
    "papermill": {
     "duration": 0.018299,
     "end_time": "2023-10-11T20:50:52.736368",
     "exception": false,
     "start_time": "2023-10-11T20:50:52.718069",
     "status": "completed"
    },
    "tags": []
   },
   "outputs": [
    {
     "data": {
      "text/plain": [
       "['Ethics',\n",
       " 'are',\n",
       " 'built',\n",
       " 'right',\n",
       " 'into',\n",
       " 'the',\n",
       " 'ideals',\n",
       " 'and',\n",
       " 'objectives',\n",
       " 'of',\n",
       " 'the',\n",
       " 'United',\n",
       " 'Nations',\n",
       " '']"
      ]
     },
     "execution_count": 3,
     "metadata": {},
     "output_type": "execute_result"
    }
   ],
   "source": [
    "text2"
   ]
  },
  {
   "cell_type": "markdown",
   "id": "516693b2",
   "metadata": {
    "papermill": {
     "duration": 0.005077,
     "end_time": "2023-10-11T20:50:52.746915",
     "exception": false,
     "start_time": "2023-10-11T20:50:52.741838",
     "status": "completed"
    },
    "tags": []
   },
   "source": [
    "<br>\n",
    "List comprehension allows us to find specific words:"
   ]
  },
  {
   "cell_type": "code",
   "execution_count": 4,
   "id": "7d4843d4",
   "metadata": {
    "execution": {
     "iopub.execute_input": "2023-10-11T20:50:52.759134Z",
     "iopub.status.busy": "2023-10-11T20:50:52.758788Z",
     "iopub.status.idle": "2023-10-11T20:50:52.766897Z",
     "shell.execute_reply": "2023-10-11T20:50:52.765486Z"
    },
    "papermill": {
     "duration": 0.017278,
     "end_time": "2023-10-11T20:50:52.769589",
     "exception": false,
     "start_time": "2023-10-11T20:50:52.752311",
     "status": "completed"
    },
    "tags": []
   },
   "outputs": [
    {
     "data": {
      "text/plain": [
       "['Ethics',\n",
       " 'built',\n",
       " 'right',\n",
       " 'into',\n",
       " 'ideals',\n",
       " 'objectives',\n",
       " 'United',\n",
       " 'Nations']"
      ]
     },
     "execution_count": 4,
     "metadata": {},
     "output_type": "execute_result"
    }
   ],
   "source": [
    "[w for w in text2 if len(w) > 3] # Words that are greater than 3 letters long in text2"
   ]
  },
  {
   "cell_type": "code",
   "execution_count": 5,
   "id": "d7ceb670",
   "metadata": {
    "execution": {
     "iopub.execute_input": "2023-10-11T20:50:52.782515Z",
     "iopub.status.busy": "2023-10-11T20:50:52.782092Z",
     "iopub.status.idle": "2023-10-11T20:50:52.789941Z",
     "shell.execute_reply": "2023-10-11T20:50:52.788427Z"
    },
    "papermill": {
     "duration": 0.017289,
     "end_time": "2023-10-11T20:50:52.792731",
     "exception": false,
     "start_time": "2023-10-11T20:50:52.775442",
     "status": "completed"
    },
    "tags": []
   },
   "outputs": [
    {
     "data": {
      "text/plain": [
       "['Ethics', 'United', 'Nations']"
      ]
     },
     "execution_count": 5,
     "metadata": {},
     "output_type": "execute_result"
    }
   ],
   "source": [
    "[w for w in text2 if w.istitle()] # Capitalized words in text2"
   ]
  },
  {
   "cell_type": "code",
   "execution_count": 6,
   "id": "8a43f4e9",
   "metadata": {
    "execution": {
     "iopub.execute_input": "2023-10-11T20:50:52.806449Z",
     "iopub.status.busy": "2023-10-11T20:50:52.805982Z",
     "iopub.status.idle": "2023-10-11T20:50:52.813746Z",
     "shell.execute_reply": "2023-10-11T20:50:52.812573Z"
    },
    "papermill": {
     "duration": 0.017627,
     "end_time": "2023-10-11T20:50:52.815832",
     "exception": false,
     "start_time": "2023-10-11T20:50:52.798205",
     "status": "completed"
    },
    "tags": []
   },
   "outputs": [
    {
     "data": {
      "text/plain": [
       "['Ethics', 'ideals', 'objectives', 'Nations']"
      ]
     },
     "execution_count": 6,
     "metadata": {},
     "output_type": "execute_result"
    }
   ],
   "source": [
    "[w for w in text2 if w.endswith('s')] # Words in text2 that end in 's'"
   ]
  },
  {
   "cell_type": "markdown",
   "id": "01573c6c",
   "metadata": {
    "papermill": {
     "duration": 0.004998,
     "end_time": "2023-10-11T20:50:52.826334",
     "exception": false,
     "start_time": "2023-10-11T20:50:52.821336",
     "status": "completed"
    },
    "tags": []
   },
   "source": [
    "<br>\n",
    "We can find unique words using `set()`."
   ]
  },
  {
   "cell_type": "code",
   "execution_count": 7,
   "id": "be64dbfb",
   "metadata": {
    "execution": {
     "iopub.execute_input": "2023-10-11T20:50:52.840229Z",
     "iopub.status.busy": "2023-10-11T20:50:52.838906Z",
     "iopub.status.idle": "2023-10-11T20:50:52.846848Z",
     "shell.execute_reply": "2023-10-11T20:50:52.845573Z"
    },
    "papermill": {
     "duration": 0.017955,
     "end_time": "2023-10-11T20:50:52.849543",
     "exception": false,
     "start_time": "2023-10-11T20:50:52.831588",
     "status": "completed"
    },
    "tags": []
   },
   "outputs": [
    {
     "data": {
      "text/plain": [
       "6"
      ]
     },
     "execution_count": 7,
     "metadata": {},
     "output_type": "execute_result"
    }
   ],
   "source": [
    "text3 = 'To be or not to be'\n",
    "text4 = text3.split(' ')\n",
    "\n",
    "len(text4)"
   ]
  },
  {
   "cell_type": "code",
   "execution_count": 8,
   "id": "fa3f9ac1",
   "metadata": {
    "execution": {
     "iopub.execute_input": "2023-10-11T20:50:52.864648Z",
     "iopub.status.busy": "2023-10-11T20:50:52.863410Z",
     "iopub.status.idle": "2023-10-11T20:50:52.870783Z",
     "shell.execute_reply": "2023-10-11T20:50:52.869713Z"
    },
    "papermill": {
     "duration": 0.01728,
     "end_time": "2023-10-11T20:50:52.873376",
     "exception": false,
     "start_time": "2023-10-11T20:50:52.856096",
     "status": "completed"
    },
    "tags": []
   },
   "outputs": [
    {
     "data": {
      "text/plain": [
       "5"
      ]
     },
     "execution_count": 8,
     "metadata": {},
     "output_type": "execute_result"
    }
   ],
   "source": [
    "len(set(text4))"
   ]
  },
  {
   "cell_type": "code",
   "execution_count": 9,
   "id": "38665969",
   "metadata": {
    "execution": {
     "iopub.execute_input": "2023-10-11T20:50:52.888897Z",
     "iopub.status.busy": "2023-10-11T20:50:52.888461Z",
     "iopub.status.idle": "2023-10-11T20:50:52.896071Z",
     "shell.execute_reply": "2023-10-11T20:50:52.894564Z"
    },
    "papermill": {
     "duration": 0.017816,
     "end_time": "2023-10-11T20:50:52.898261",
     "exception": false,
     "start_time": "2023-10-11T20:50:52.880445",
     "status": "completed"
    },
    "tags": []
   },
   "outputs": [
    {
     "data": {
      "text/plain": [
       "{'To', 'be', 'not', 'or', 'to'}"
      ]
     },
     "execution_count": 9,
     "metadata": {},
     "output_type": "execute_result"
    }
   ],
   "source": [
    "set(text4)"
   ]
  },
  {
   "cell_type": "code",
   "execution_count": 10,
   "id": "b52c2c64",
   "metadata": {
    "execution": {
     "iopub.execute_input": "2023-10-11T20:50:52.912378Z",
     "iopub.status.busy": "2023-10-11T20:50:52.911895Z",
     "iopub.status.idle": "2023-10-11T20:50:52.920813Z",
     "shell.execute_reply": "2023-10-11T20:50:52.919411Z"
    },
    "papermill": {
     "duration": 0.0191,
     "end_time": "2023-10-11T20:50:52.923021",
     "exception": false,
     "start_time": "2023-10-11T20:50:52.903921",
     "status": "completed"
    },
    "tags": []
   },
   "outputs": [
    {
     "data": {
      "text/plain": [
       "4"
      ]
     },
     "execution_count": 10,
     "metadata": {},
     "output_type": "execute_result"
    }
   ],
   "source": [
    "len(set([w.lower() for w in text4])) # .lower converts the string to lowercase."
   ]
  },
  {
   "cell_type": "code",
   "execution_count": 11,
   "id": "887ce021",
   "metadata": {
    "execution": {
     "iopub.execute_input": "2023-10-11T20:50:52.937008Z",
     "iopub.status.busy": "2023-10-11T20:50:52.936593Z",
     "iopub.status.idle": "2023-10-11T20:50:52.942963Z",
     "shell.execute_reply": "2023-10-11T20:50:52.941762Z"
    },
    "papermill": {
     "duration": 0.016695,
     "end_time": "2023-10-11T20:50:52.945556",
     "exception": false,
     "start_time": "2023-10-11T20:50:52.928861",
     "status": "completed"
    },
    "tags": []
   },
   "outputs": [
    {
     "data": {
      "text/plain": [
       "{'be', 'not', 'or', 'to'}"
      ]
     },
     "execution_count": 11,
     "metadata": {},
     "output_type": "execute_result"
    }
   ],
   "source": [
    "set([w.lower() for w in text4])"
   ]
  },
  {
   "cell_type": "markdown",
   "id": "f2a69499",
   "metadata": {
    "papermill": {
     "duration": 0.006111,
     "end_time": "2023-10-11T20:50:52.958381",
     "exception": false,
     "start_time": "2023-10-11T20:50:52.952270",
     "status": "completed"
    },
    "tags": []
   },
   "source": [
    "### Processing free-text"
   ]
  },
  {
   "cell_type": "code",
   "execution_count": 12,
   "id": "98760bd7",
   "metadata": {
    "execution": {
     "iopub.execute_input": "2023-10-11T20:50:52.973056Z",
     "iopub.status.busy": "2023-10-11T20:50:52.972292Z",
     "iopub.status.idle": "2023-10-11T20:50:52.979064Z",
     "shell.execute_reply": "2023-10-11T20:50:52.978316Z"
    },
    "papermill": {
     "duration": 0.016428,
     "end_time": "2023-10-11T20:50:52.981060",
     "exception": false,
     "start_time": "2023-10-11T20:50:52.964632",
     "status": "completed"
    },
    "tags": []
   },
   "outputs": [
    {
     "data": {
      "text/plain": [
       "['\"Ethics',\n",
       " 'are',\n",
       " 'built',\n",
       " 'right',\n",
       " 'into',\n",
       " 'the',\n",
       " 'ideals',\n",
       " 'and',\n",
       " 'objectives',\n",
       " 'of',\n",
       " 'the',\n",
       " 'United',\n",
       " 'Nations\"',\n",
       " '#UNSG',\n",
       " '@',\n",
       " 'NY',\n",
       " 'Society',\n",
       " 'for',\n",
       " 'Ethical',\n",
       " 'Culture',\n",
       " 'bit.ly/2guVelr']"
      ]
     },
     "execution_count": 12,
     "metadata": {},
     "output_type": "execute_result"
    }
   ],
   "source": [
    "text5 = '\"Ethics are built right into the ideals and objectives of the United Nations\" \\\n",
    "#UNSG @ NY Society for Ethical Culture bit.ly/2guVelr'\n",
    "text6 = text5.split(' ')\n",
    "\n",
    "text6"
   ]
  },
  {
   "cell_type": "markdown",
   "id": "49f1c7ae",
   "metadata": {
    "papermill": {
     "duration": 0.005596,
     "end_time": "2023-10-11T20:50:52.992825",
     "exception": false,
     "start_time": "2023-10-11T20:50:52.987229",
     "status": "completed"
    },
    "tags": []
   },
   "source": [
    "<br>\n",
    "Finding hastags:"
   ]
  },
  {
   "cell_type": "code",
   "execution_count": 13,
   "id": "486d4329",
   "metadata": {
    "execution": {
     "iopub.execute_input": "2023-10-11T20:50:53.008942Z",
     "iopub.status.busy": "2023-10-11T20:50:53.008493Z",
     "iopub.status.idle": "2023-10-11T20:50:53.019523Z",
     "shell.execute_reply": "2023-10-11T20:50:53.017432Z"
    },
    "papermill": {
     "duration": 0.024166,
     "end_time": "2023-10-11T20:50:53.022918",
     "exception": false,
     "start_time": "2023-10-11T20:50:52.998752",
     "status": "completed"
    },
    "tags": []
   },
   "outputs": [
    {
     "data": {
      "text/plain": [
       "['#UNSG']"
      ]
     },
     "execution_count": 13,
     "metadata": {},
     "output_type": "execute_result"
    }
   ],
   "source": [
    "[w for w in text6 if w.startswith('#')]"
   ]
  },
  {
   "cell_type": "markdown",
   "id": "d1e2bcf6",
   "metadata": {
    "papermill": {
     "duration": 0.005957,
     "end_time": "2023-10-11T20:50:53.035601",
     "exception": false,
     "start_time": "2023-10-11T20:50:53.029644",
     "status": "completed"
    },
    "tags": []
   },
   "source": [
    "<br>\n",
    "Finding callouts:"
   ]
  },
  {
   "cell_type": "code",
   "execution_count": 14,
   "id": "f20ca977",
   "metadata": {
    "execution": {
     "iopub.execute_input": "2023-10-11T20:50:53.049816Z",
     "iopub.status.busy": "2023-10-11T20:50:53.049459Z",
     "iopub.status.idle": "2023-10-11T20:50:53.057623Z",
     "shell.execute_reply": "2023-10-11T20:50:53.056396Z"
    },
    "papermill": {
     "duration": 0.017927,
     "end_time": "2023-10-11T20:50:53.059772",
     "exception": false,
     "start_time": "2023-10-11T20:50:53.041845",
     "status": "completed"
    },
    "tags": []
   },
   "outputs": [
    {
     "data": {
      "text/plain": [
       "['@']"
      ]
     },
     "execution_count": 14,
     "metadata": {},
     "output_type": "execute_result"
    }
   ],
   "source": [
    "[w for w in text6 if w.startswith('@')]"
   ]
  },
  {
   "cell_type": "code",
   "execution_count": 15,
   "id": "cda1fe08",
   "metadata": {
    "execution": {
     "iopub.execute_input": "2023-10-11T20:50:53.074423Z",
     "iopub.status.busy": "2023-10-11T20:50:53.073986Z",
     "iopub.status.idle": "2023-10-11T20:50:53.080192Z",
     "shell.execute_reply": "2023-10-11T20:50:53.078645Z"
    },
    "papermill": {
     "duration": 0.016311,
     "end_time": "2023-10-11T20:50:53.082535",
     "exception": false,
     "start_time": "2023-10-11T20:50:53.066224",
     "status": "completed"
    },
    "tags": []
   },
   "outputs": [],
   "source": [
    "text7 = '@UN @UN_Women \"Ethics are built right into the ideals and objectives of the United Nations\" \\\n",
    "#UNSG @ NY Society for Ethical Culture bit.ly/2guVelr'\n",
    "text8 = text7.split(' ')"
   ]
  },
  {
   "cell_type": "markdown",
   "id": "5a432773",
   "metadata": {
    "papermill": {
     "duration": 0.005971,
     "end_time": "2023-10-11T20:50:53.094960",
     "exception": false,
     "start_time": "2023-10-11T20:50:53.088989",
     "status": "completed"
    },
    "tags": []
   },
   "source": [
    "<br>\n",
    "\n",
    "We can use regular expressions to help us with more complex parsing. \n",
    "\n",
    "For example `'@[A-Za-z0-9_]+'` will return all words that: \n",
    "* start with `'@'` and are followed by at least one: \n",
    "* capital letter (`'A-Z'`)\n",
    "* lowercase letter (`'a-z'`) \n",
    "* number (`'0-9'`)\n",
    "* or underscore (`'_'`)"
   ]
  },
  {
   "cell_type": "code",
   "execution_count": 16,
   "id": "32df3cdc",
   "metadata": {
    "execution": {
     "iopub.execute_input": "2023-10-11T20:50:53.109186Z",
     "iopub.status.busy": "2023-10-11T20:50:53.108799Z",
     "iopub.status.idle": "2023-10-11T20:50:53.116652Z",
     "shell.execute_reply": "2023-10-11T20:50:53.115286Z"
    },
    "papermill": {
     "duration": 0.017405,
     "end_time": "2023-10-11T20:50:53.118683",
     "exception": false,
     "start_time": "2023-10-11T20:50:53.101278",
     "status": "completed"
    },
    "tags": []
   },
   "outputs": [
    {
     "data": {
      "text/plain": [
       "['@UN', '@UN_Women']"
      ]
     },
     "execution_count": 16,
     "metadata": {},
     "output_type": "execute_result"
    }
   ],
   "source": [
    "import re # import re - a module that provides support for regular expressions\n",
    "\n",
    "[w for w in text8 if re.search('@[A-Za-z0-9_]+', w)]"
   ]
  },
  {
   "cell_type": "code",
   "execution_count": null,
   "id": "69ef0563",
   "metadata": {
    "papermill": {
     "duration": 0.006627,
     "end_time": "2023-10-11T20:50:53.132039",
     "exception": false,
     "start_time": "2023-10-11T20:50:53.125412",
     "status": "completed"
    },
    "tags": []
   },
   "outputs": [],
   "source": []
  }
 ],
 "metadata": {
  "kernelspec": {
   "display_name": "Python 3",
   "language": "python",
   "name": "python3"
  },
  "language_info": {
   "codemirror_mode": {
    "name": "ipython",
    "version": 3
   },
   "file_extension": ".py",
   "mimetype": "text/x-python",
   "name": "python",
   "nbconvert_exporter": "python",
   "pygments_lexer": "ipython3",
   "version": "3.10.12"
  },
  "papermill": {
   "default_parameters": {},
   "duration": 4.540715,
   "end_time": "2023-10-11T20:50:53.660555",
   "environment_variables": {},
   "exception": null,
   "input_path": "__notebook__.ipynb",
   "output_path": "__notebook__.ipynb",
   "parameters": {},
   "start_time": "2023-10-11T20:50:49.119840",
   "version": "2.4.0"
  }
 },
 "nbformat": 4,
 "nbformat_minor": 5
}
