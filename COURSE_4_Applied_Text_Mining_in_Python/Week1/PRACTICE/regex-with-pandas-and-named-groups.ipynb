{
 "cells": [
  {
   "cell_type": "markdown",
   "id": "889e5a17",
   "metadata": {
    "papermill": {
     "duration": 0.004127,
     "end_time": "2023-10-11T22:27:50.647122",
     "exception": false,
     "start_time": "2023-10-11T22:27:50.642995",
     "status": "completed"
    },
    "tags": []
   },
   "source": [
    "---\n",
    "\n",
    "_You are currently looking at **version 1.0** of this notebook. To download notebooks and datafiles, as well as get help on Jupyter notebooks in the Coursera platform, visit the [Jupyter Notebook FAQ](https://www.coursera.org/learn/python-text-mining/resources/d9pwm) course resource._\n",
    "\n",
    "---"
   ]
  },
  {
   "cell_type": "markdown",
   "id": "bec57663",
   "metadata": {
    "papermill": {
     "duration": 0.003374,
     "end_time": "2023-10-11T22:27:50.656397",
     "exception": false,
     "start_time": "2023-10-11T22:27:50.653023",
     "status": "completed"
    },
    "tags": []
   },
   "source": [
    "# Working with Text Data in pandas"
   ]
  },
  {
   "cell_type": "code",
   "execution_count": 1,
   "id": "3c3813d5",
   "metadata": {
    "execution": {
     "iopub.execute_input": "2023-10-11T22:27:50.665003Z",
     "iopub.status.busy": "2023-10-11T22:27:50.664600Z",
     "iopub.status.idle": "2023-10-11T22:27:51.055454Z",
     "shell.execute_reply": "2023-10-11T22:27:51.054444Z"
    },
    "papermill": {
     "duration": 0.397698,
     "end_time": "2023-10-11T22:27:51.057581",
     "exception": false,
     "start_time": "2023-10-11T22:27:50.659883",
     "status": "completed"
    },
    "scrolled": true,
    "tags": []
   },
   "outputs": [
    {
     "data": {
      "text/html": [
       "<div>\n",
       "<style scoped>\n",
       "    .dataframe tbody tr th:only-of-type {\n",
       "        vertical-align: middle;\n",
       "    }\n",
       "\n",
       "    .dataframe tbody tr th {\n",
       "        vertical-align: top;\n",
       "    }\n",
       "\n",
       "    .dataframe thead th {\n",
       "        text-align: right;\n",
       "    }\n",
       "</style>\n",
       "<table border=\"1\" class=\"dataframe\">\n",
       "  <thead>\n",
       "    <tr style=\"text-align: right;\">\n",
       "      <th></th>\n",
       "      <th>text</th>\n",
       "    </tr>\n",
       "  </thead>\n",
       "  <tbody>\n",
       "    <tr>\n",
       "      <th>0</th>\n",
       "      <td>Monday: The doctor's appointment is at 2:45pm.</td>\n",
       "    </tr>\n",
       "    <tr>\n",
       "      <th>1</th>\n",
       "      <td>Tuesday: The dentist's appointment is at 11:30...</td>\n",
       "    </tr>\n",
       "    <tr>\n",
       "      <th>2</th>\n",
       "      <td>Wednesday: At 7:00pm, there is a basketball game!</td>\n",
       "    </tr>\n",
       "    <tr>\n",
       "      <th>3</th>\n",
       "      <td>Thursday: Be back home by 11:15 pm at the latest.</td>\n",
       "    </tr>\n",
       "    <tr>\n",
       "      <th>4</th>\n",
       "      <td>Friday: Take the train at 08:10 am, arrive at ...</td>\n",
       "    </tr>\n",
       "  </tbody>\n",
       "</table>\n",
       "</div>"
      ],
      "text/plain": [
       "                                                text\n",
       "0     Monday: The doctor's appointment is at 2:45pm.\n",
       "1  Tuesday: The dentist's appointment is at 11:30...\n",
       "2  Wednesday: At 7:00pm, there is a basketball game!\n",
       "3  Thursday: Be back home by 11:15 pm at the latest.\n",
       "4  Friday: Take the train at 08:10 am, arrive at ..."
      ]
     },
     "execution_count": 1,
     "metadata": {},
     "output_type": "execute_result"
    }
   ],
   "source": [
    "import pandas as pd\n",
    "\n",
    "time_sentences = [\"Monday: The doctor's appointment is at 2:45pm.\", \n",
    "                  \"Tuesday: The dentist's appointment is at 11:30 am.\",\n",
    "                  \"Wednesday: At 7:00pm, there is a basketball game!\",\n",
    "                  \"Thursday: Be back home by 11:15 pm at the latest.\",\n",
    "                  \"Friday: Take the train at 08:10 am, arrive at 09:00am.\"]\n",
    "\n",
    "df = pd.DataFrame(time_sentences, columns=['text'])\n",
    "df"
   ]
  },
  {
   "cell_type": "code",
   "execution_count": 2,
   "id": "c4ee51e2",
   "metadata": {
    "execution": {
     "iopub.execute_input": "2023-10-11T22:27:51.067242Z",
     "iopub.status.busy": "2023-10-11T22:27:51.066178Z",
     "iopub.status.idle": "2023-10-11T22:27:51.074293Z",
     "shell.execute_reply": "2023-10-11T22:27:51.073560Z"
    },
    "papermill": {
     "duration": 0.014656,
     "end_time": "2023-10-11T22:27:51.076076",
     "exception": false,
     "start_time": "2023-10-11T22:27:51.061420",
     "status": "completed"
    },
    "tags": []
   },
   "outputs": [
    {
     "data": {
      "text/plain": [
       "0    46\n",
       "1    50\n",
       "2    49\n",
       "3    49\n",
       "4    54\n",
       "Name: text, dtype: int64"
      ]
     },
     "execution_count": 2,
     "metadata": {},
     "output_type": "execute_result"
    }
   ],
   "source": [
    "# find the number of characters for each string in df['text']\n",
    "df['text'].str.len()"
   ]
  },
  {
   "cell_type": "code",
   "execution_count": 3,
   "id": "2de275cc",
   "metadata": {
    "execution": {
     "iopub.execute_input": "2023-10-11T22:27:51.085437Z",
     "iopub.status.busy": "2023-10-11T22:27:51.084887Z",
     "iopub.status.idle": "2023-10-11T22:27:51.092540Z",
     "shell.execute_reply": "2023-10-11T22:27:51.091411Z"
    },
    "papermill": {
     "duration": 0.014944,
     "end_time": "2023-10-11T22:27:51.094754",
     "exception": false,
     "start_time": "2023-10-11T22:27:51.079810",
     "status": "completed"
    },
    "tags": []
   },
   "outputs": [
    {
     "data": {
      "text/plain": [
       "0     7\n",
       "1     8\n",
       "2     8\n",
       "3    10\n",
       "4    10\n",
       "Name: text, dtype: int64"
      ]
     },
     "execution_count": 3,
     "metadata": {},
     "output_type": "execute_result"
    }
   ],
   "source": [
    "# find the number of tokens for each string in df['text']\n",
    "df['text'].str.split().str.len()"
   ]
  },
  {
   "cell_type": "code",
   "execution_count": 4,
   "id": "6a530c08",
   "metadata": {
    "execution": {
     "iopub.execute_input": "2023-10-11T22:27:51.104196Z",
     "iopub.status.busy": "2023-10-11T22:27:51.103792Z",
     "iopub.status.idle": "2023-10-11T22:27:51.111623Z",
     "shell.execute_reply": "2023-10-11T22:27:51.110702Z"
    },
    "papermill": {
     "duration": 0.014652,
     "end_time": "2023-10-11T22:27:51.113510",
     "exception": false,
     "start_time": "2023-10-11T22:27:51.098858",
     "status": "completed"
    },
    "tags": []
   },
   "outputs": [
    {
     "data": {
      "text/plain": [
       "0     True\n",
       "1     True\n",
       "2    False\n",
       "3    False\n",
       "4    False\n",
       "Name: text, dtype: bool"
      ]
     },
     "execution_count": 4,
     "metadata": {},
     "output_type": "execute_result"
    }
   ],
   "source": [
    "# find which entries contain the word 'appointment'\n",
    "df['text'].str.contains('appointment')"
   ]
  },
  {
   "cell_type": "code",
   "execution_count": 5,
   "id": "35b36dce",
   "metadata": {
    "execution": {
     "iopub.execute_input": "2023-10-11T22:27:51.122930Z",
     "iopub.status.busy": "2023-10-11T22:27:51.122559Z",
     "iopub.status.idle": "2023-10-11T22:27:51.129671Z",
     "shell.execute_reply": "2023-10-11T22:27:51.128690Z"
    },
    "papermill": {
     "duration": 0.014078,
     "end_time": "2023-10-11T22:27:51.131608",
     "exception": false,
     "start_time": "2023-10-11T22:27:51.117530",
     "status": "completed"
    },
    "tags": []
   },
   "outputs": [
    {
     "data": {
      "text/plain": [
       "0    3\n",
       "1    4\n",
       "2    3\n",
       "3    4\n",
       "4    8\n",
       "Name: text, dtype: int64"
      ]
     },
     "execution_count": 5,
     "metadata": {},
     "output_type": "execute_result"
    }
   ],
   "source": [
    "# find how many times a digit occurs in each string\n",
    "df['text'].str.count(r'\\d')"
   ]
  },
  {
   "cell_type": "code",
   "execution_count": 6,
   "id": "eac1a186",
   "metadata": {
    "execution": {
     "iopub.execute_input": "2023-10-11T22:27:51.141375Z",
     "iopub.status.busy": "2023-10-11T22:27:51.141033Z",
     "iopub.status.idle": "2023-10-11T22:27:51.149260Z",
     "shell.execute_reply": "2023-10-11T22:27:51.148220Z"
    },
    "papermill": {
     "duration": 0.015684,
     "end_time": "2023-10-11T22:27:51.151439",
     "exception": false,
     "start_time": "2023-10-11T22:27:51.135755",
     "status": "completed"
    },
    "tags": []
   },
   "outputs": [
    {
     "data": {
      "text/plain": [
       "0                   [2, 4, 5]\n",
       "1                [1, 1, 3, 0]\n",
       "2                   [7, 0, 0]\n",
       "3                [1, 1, 1, 5]\n",
       "4    [0, 8, 1, 0, 0, 9, 0, 0]\n",
       "Name: text, dtype: object"
      ]
     },
     "execution_count": 6,
     "metadata": {},
     "output_type": "execute_result"
    }
   ],
   "source": [
    "# find all occurances of the digits\n",
    "df['text'].str.findall(r'\\d')"
   ]
  },
  {
   "cell_type": "code",
   "execution_count": 7,
   "id": "728a84dd",
   "metadata": {
    "execution": {
     "iopub.execute_input": "2023-10-11T22:27:51.161448Z",
     "iopub.status.busy": "2023-10-11T22:27:51.161136Z",
     "iopub.status.idle": "2023-10-11T22:27:51.170052Z",
     "shell.execute_reply": "2023-10-11T22:27:51.168908Z"
    },
    "papermill": {
     "duration": 0.016154,
     "end_time": "2023-10-11T22:27:51.171937",
     "exception": false,
     "start_time": "2023-10-11T22:27:51.155783",
     "status": "completed"
    },
    "tags": []
   },
   "outputs": [
    {
     "data": {
      "text/plain": [
       "0               [(2, 45)]\n",
       "1              [(11, 30)]\n",
       "2               [(7, 00)]\n",
       "3              [(11, 15)]\n",
       "4    [(08, 10), (09, 00)]\n",
       "Name: text, dtype: object"
      ]
     },
     "execution_count": 7,
     "metadata": {},
     "output_type": "execute_result"
    }
   ],
   "source": [
    "# group and find the hours and minutes\n",
    "df['text'].str.findall(r'(\\d?\\d):(\\d\\d)')"
   ]
  },
  {
   "cell_type": "code",
   "execution_count": 8,
   "id": "656f6c59",
   "metadata": {
    "execution": {
     "iopub.execute_input": "2023-10-11T22:27:51.181941Z",
     "iopub.status.busy": "2023-10-11T22:27:51.181558Z",
     "iopub.status.idle": "2023-10-11T22:27:51.189120Z",
     "shell.execute_reply": "2023-10-11T22:27:51.187994Z"
    },
    "papermill": {
     "duration": 0.014861,
     "end_time": "2023-10-11T22:27:51.191085",
     "exception": false,
     "start_time": "2023-10-11T22:27:51.176224",
     "status": "completed"
    },
    "tags": []
   },
   "outputs": [
    {
     "data": {
      "text/plain": [
       "0          ???: The doctor's appointment is at 2:45pm.\n",
       "1       ???: The dentist's appointment is at 11:30 am.\n",
       "2          ???: At 7:00pm, there is a basketball game!\n",
       "3         ???: Be back home by 11:15 pm at the latest.\n",
       "4    ???: Take the train at 08:10 am, arrive at 09:...\n",
       "Name: text, dtype: object"
      ]
     },
     "execution_count": 8,
     "metadata": {},
     "output_type": "execute_result"
    }
   ],
   "source": [
    "# replace weekdays with '???'\n",
    "#df['text'].str.replace(r'\\w+day\\b', '???') # pandas 1.5.2\n",
    "df['text'].str.replace(r'\\w+day\\b', '???', regex=True) # pandas 2.0.3"
   ]
  },
  {
   "cell_type": "code",
   "execution_count": 9,
   "id": "4ca48ee6",
   "metadata": {
    "execution": {
     "iopub.execute_input": "2023-10-11T22:27:51.201158Z",
     "iopub.status.busy": "2023-10-11T22:27:51.200847Z",
     "iopub.status.idle": "2023-10-11T22:27:51.206421Z",
     "shell.execute_reply": "2023-10-11T22:27:51.205322Z"
    },
    "papermill": {
     "duration": 0.01313,
     "end_time": "2023-10-11T22:27:51.208455",
     "exception": false,
     "start_time": "2023-10-11T22:27:51.195325",
     "status": "completed"
    },
    "tags": []
   },
   "outputs": [
    {
     "name": "stdout",
     "output_type": "stream",
     "text": [
      "<re.Match object; span=(0, 6), match='Monday'>\n",
      "('Monday',)\n",
      "Monday\n"
     ]
    }
   ],
   "source": [
    "# Toy Example\n",
    "import re\n",
    "hola=\"Monday: The doctor's appointment is at 2:45pm.\"\n",
    "hola=re.match(r'(\\w+day\\b)', hola)\n",
    "print(hola)\n",
    "print(hola.groups())\n",
    "print(hola.groups()[0])"
   ]
  },
  {
   "cell_type": "code",
   "execution_count": 10,
   "id": "cc73bf7c",
   "metadata": {
    "execution": {
     "iopub.execute_input": "2023-10-11T22:27:51.218839Z",
     "iopub.status.busy": "2023-10-11T22:27:51.218247Z",
     "iopub.status.idle": "2023-10-11T22:27:51.226401Z",
     "shell.execute_reply": "2023-10-11T22:27:51.225449Z"
    },
    "papermill": {
     "duration": 0.015394,
     "end_time": "2023-10-11T22:27:51.228280",
     "exception": false,
     "start_time": "2023-10-11T22:27:51.212886",
     "status": "completed"
    },
    "tags": []
   },
   "outputs": [
    {
     "data": {
      "text/plain": [
       "0          Mon: The doctor's appointment is at 2:45pm.\n",
       "1       Tue: The dentist's appointment is at 11:30 am.\n",
       "2          Wed: At 7:00pm, there is a basketball game!\n",
       "3         Thu: Be back home by 11:15 pm at the latest.\n",
       "4    Fri: Take the train at 08:10 am, arrive at 09:...\n",
       "Name: text, dtype: object"
      ]
     },
     "execution_count": 10,
     "metadata": {},
     "output_type": "execute_result"
    }
   ],
   "source": [
    "# replace weekdays with 3 letter abbrevations\n",
    "#df['text'].str.replace(r'(\\w+day\\b)', lambda x: x.groups()[0][:3]) # pandas 1.5.2\n",
    "df['text'].str.replace(r'(\\w+day\\b)', lambda x: x.groups()[0][:3], regex=True) # pandas 2.0.3"
   ]
  },
  {
   "cell_type": "code",
   "execution_count": 11,
   "id": "66c0cada",
   "metadata": {
    "execution": {
     "iopub.execute_input": "2023-10-11T22:27:51.238359Z",
     "iopub.status.busy": "2023-10-11T22:27:51.238018Z",
     "iopub.status.idle": "2023-10-11T22:27:51.250524Z",
     "shell.execute_reply": "2023-10-11T22:27:51.249548Z"
    },
    "papermill": {
     "duration": 0.019924,
     "end_time": "2023-10-11T22:27:51.252532",
     "exception": false,
     "start_time": "2023-10-11T22:27:51.232608",
     "status": "completed"
    },
    "tags": []
   },
   "outputs": [
    {
     "data": {
      "text/html": [
       "<div>\n",
       "<style scoped>\n",
       "    .dataframe tbody tr th:only-of-type {\n",
       "        vertical-align: middle;\n",
       "    }\n",
       "\n",
       "    .dataframe tbody tr th {\n",
       "        vertical-align: top;\n",
       "    }\n",
       "\n",
       "    .dataframe thead th {\n",
       "        text-align: right;\n",
       "    }\n",
       "</style>\n",
       "<table border=\"1\" class=\"dataframe\">\n",
       "  <thead>\n",
       "    <tr style=\"text-align: right;\">\n",
       "      <th></th>\n",
       "      <th>0</th>\n",
       "      <th>1</th>\n",
       "    </tr>\n",
       "  </thead>\n",
       "  <tbody>\n",
       "    <tr>\n",
       "      <th>0</th>\n",
       "      <td>2</td>\n",
       "      <td>45</td>\n",
       "    </tr>\n",
       "    <tr>\n",
       "      <th>1</th>\n",
       "      <td>11</td>\n",
       "      <td>30</td>\n",
       "    </tr>\n",
       "    <tr>\n",
       "      <th>2</th>\n",
       "      <td>7</td>\n",
       "      <td>00</td>\n",
       "    </tr>\n",
       "    <tr>\n",
       "      <th>3</th>\n",
       "      <td>11</td>\n",
       "      <td>15</td>\n",
       "    </tr>\n",
       "    <tr>\n",
       "      <th>4</th>\n",
       "      <td>08</td>\n",
       "      <td>10</td>\n",
       "    </tr>\n",
       "  </tbody>\n",
       "</table>\n",
       "</div>"
      ],
      "text/plain": [
       "    0   1\n",
       "0   2  45\n",
       "1  11  30\n",
       "2   7  00\n",
       "3  11  15\n",
       "4  08  10"
      ]
     },
     "execution_count": 11,
     "metadata": {},
     "output_type": "execute_result"
    }
   ],
   "source": [
    "# create new columns from first match of extracted groups\n",
    "df['text'].str.extract(r'(\\d?\\d):(\\d\\d)')"
   ]
  },
  {
   "cell_type": "code",
   "execution_count": 12,
   "id": "0b8d8ac9",
   "metadata": {
    "execution": {
     "iopub.execute_input": "2023-10-11T22:27:51.263761Z",
     "iopub.status.busy": "2023-10-11T22:27:51.263391Z",
     "iopub.status.idle": "2023-10-11T22:27:51.282677Z",
     "shell.execute_reply": "2023-10-11T22:27:51.281827Z"
    },
    "papermill": {
     "duration": 0.02723,
     "end_time": "2023-10-11T22:27:51.284549",
     "exception": false,
     "start_time": "2023-10-11T22:27:51.257319",
     "status": "completed"
    },
    "tags": []
   },
   "outputs": [
    {
     "data": {
      "text/html": [
       "<div>\n",
       "<style scoped>\n",
       "    .dataframe tbody tr th:only-of-type {\n",
       "        vertical-align: middle;\n",
       "    }\n",
       "\n",
       "    .dataframe tbody tr th {\n",
       "        vertical-align: top;\n",
       "    }\n",
       "\n",
       "    .dataframe thead th {\n",
       "        text-align: right;\n",
       "    }\n",
       "</style>\n",
       "<table border=\"1\" class=\"dataframe\">\n",
       "  <thead>\n",
       "    <tr style=\"text-align: right;\">\n",
       "      <th></th>\n",
       "      <th></th>\n",
       "      <th>0</th>\n",
       "      <th>1</th>\n",
       "      <th>2</th>\n",
       "      <th>3</th>\n",
       "    </tr>\n",
       "    <tr>\n",
       "      <th></th>\n",
       "      <th>match</th>\n",
       "      <th></th>\n",
       "      <th></th>\n",
       "      <th></th>\n",
       "      <th></th>\n",
       "    </tr>\n",
       "  </thead>\n",
       "  <tbody>\n",
       "    <tr>\n",
       "      <th>0</th>\n",
       "      <th>0</th>\n",
       "      <td>2:45pm</td>\n",
       "      <td>2</td>\n",
       "      <td>45</td>\n",
       "      <td>pm</td>\n",
       "    </tr>\n",
       "    <tr>\n",
       "      <th>1</th>\n",
       "      <th>0</th>\n",
       "      <td>11:30 am</td>\n",
       "      <td>11</td>\n",
       "      <td>30</td>\n",
       "      <td>am</td>\n",
       "    </tr>\n",
       "    <tr>\n",
       "      <th>2</th>\n",
       "      <th>0</th>\n",
       "      <td>7:00pm</td>\n",
       "      <td>7</td>\n",
       "      <td>00</td>\n",
       "      <td>pm</td>\n",
       "    </tr>\n",
       "    <tr>\n",
       "      <th>3</th>\n",
       "      <th>0</th>\n",
       "      <td>11:15 pm</td>\n",
       "      <td>11</td>\n",
       "      <td>15</td>\n",
       "      <td>pm</td>\n",
       "    </tr>\n",
       "    <tr>\n",
       "      <th rowspan=\"2\" valign=\"top\">4</th>\n",
       "      <th>0</th>\n",
       "      <td>08:10 am</td>\n",
       "      <td>08</td>\n",
       "      <td>10</td>\n",
       "      <td>am</td>\n",
       "    </tr>\n",
       "    <tr>\n",
       "      <th>1</th>\n",
       "      <td>09:00am</td>\n",
       "      <td>09</td>\n",
       "      <td>00</td>\n",
       "      <td>am</td>\n",
       "    </tr>\n",
       "  </tbody>\n",
       "</table>\n",
       "</div>"
      ],
      "text/plain": [
       "                0   1   2   3\n",
       "  match                      \n",
       "0 0        2:45pm   2  45  pm\n",
       "1 0      11:30 am  11  30  am\n",
       "2 0        7:00pm   7  00  pm\n",
       "3 0      11:15 pm  11  15  pm\n",
       "4 0      08:10 am  08  10  am\n",
       "  1       09:00am  09  00  am"
      ]
     },
     "execution_count": 12,
     "metadata": {},
     "output_type": "execute_result"
    }
   ],
   "source": [
    "# extract the entire time, the hours, the minutes, and the period\n",
    "df['text'].str.extractall(r'((\\d?\\d):(\\d\\d) ?([ap]m))')"
   ]
  },
  {
   "cell_type": "code",
   "execution_count": 13,
   "id": "8cfcf28f",
   "metadata": {
    "execution": {
     "iopub.execute_input": "2023-10-11T22:27:51.295895Z",
     "iopub.status.busy": "2023-10-11T22:27:51.295342Z",
     "iopub.status.idle": "2023-10-11T22:27:51.306204Z",
     "shell.execute_reply": "2023-10-11T22:27:51.305487Z"
    },
    "papermill": {
     "duration": 0.018738,
     "end_time": "2023-10-11T22:27:51.308030",
     "exception": false,
     "start_time": "2023-10-11T22:27:51.289292",
     "status": "completed"
    },
    "tags": []
   },
   "outputs": [
    {
     "data": {
      "text/html": [
       "<div>\n",
       "<style scoped>\n",
       "    .dataframe tbody tr th:only-of-type {\n",
       "        vertical-align: middle;\n",
       "    }\n",
       "\n",
       "    .dataframe tbody tr th {\n",
       "        vertical-align: top;\n",
       "    }\n",
       "\n",
       "    .dataframe thead th {\n",
       "        text-align: right;\n",
       "    }\n",
       "</style>\n",
       "<table border=\"1\" class=\"dataframe\">\n",
       "  <thead>\n",
       "    <tr style=\"text-align: right;\">\n",
       "      <th></th>\n",
       "      <th></th>\n",
       "      <th>time</th>\n",
       "      <th>hour</th>\n",
       "      <th>minute</th>\n",
       "      <th>period</th>\n",
       "    </tr>\n",
       "    <tr>\n",
       "      <th></th>\n",
       "      <th>match</th>\n",
       "      <th></th>\n",
       "      <th></th>\n",
       "      <th></th>\n",
       "      <th></th>\n",
       "    </tr>\n",
       "  </thead>\n",
       "  <tbody>\n",
       "    <tr>\n",
       "      <th>0</th>\n",
       "      <th>0</th>\n",
       "      <td>2:45pm</td>\n",
       "      <td>2</td>\n",
       "      <td>45</td>\n",
       "      <td>pm</td>\n",
       "    </tr>\n",
       "    <tr>\n",
       "      <th>1</th>\n",
       "      <th>0</th>\n",
       "      <td>11:30 am</td>\n",
       "      <td>11</td>\n",
       "      <td>30</td>\n",
       "      <td>am</td>\n",
       "    </tr>\n",
       "    <tr>\n",
       "      <th>2</th>\n",
       "      <th>0</th>\n",
       "      <td>7:00pm</td>\n",
       "      <td>7</td>\n",
       "      <td>00</td>\n",
       "      <td>pm</td>\n",
       "    </tr>\n",
       "    <tr>\n",
       "      <th>3</th>\n",
       "      <th>0</th>\n",
       "      <td>11:15 pm</td>\n",
       "      <td>11</td>\n",
       "      <td>15</td>\n",
       "      <td>pm</td>\n",
       "    </tr>\n",
       "    <tr>\n",
       "      <th rowspan=\"2\" valign=\"top\">4</th>\n",
       "      <th>0</th>\n",
       "      <td>08:10 am</td>\n",
       "      <td>08</td>\n",
       "      <td>10</td>\n",
       "      <td>am</td>\n",
       "    </tr>\n",
       "    <tr>\n",
       "      <th>1</th>\n",
       "      <td>09:00am</td>\n",
       "      <td>09</td>\n",
       "      <td>00</td>\n",
       "      <td>am</td>\n",
       "    </tr>\n",
       "  </tbody>\n",
       "</table>\n",
       "</div>"
      ],
      "text/plain": [
       "             time hour minute period\n",
       "  match                             \n",
       "0 0        2:45pm    2     45     pm\n",
       "1 0      11:30 am   11     30     am\n",
       "2 0        7:00pm    7     00     pm\n",
       "3 0      11:15 pm   11     15     pm\n",
       "4 0      08:10 am   08     10     am\n",
       "  1       09:00am   09     00     am"
      ]
     },
     "execution_count": 13,
     "metadata": {},
     "output_type": "execute_result"
    }
   ],
   "source": [
    "# extract the entire time, the hours, the minutes, and the period with group names\n",
    "df['text'].str.extractall(r'(?P<time>(?P<hour>\\d?\\d):(?P<minute>\\d\\d) ?(?P<period>[ap]m))')"
   ]
  },
  {
   "cell_type": "code",
   "execution_count": null,
   "id": "6eb56bfc",
   "metadata": {
    "papermill": {
     "duration": 0.004635,
     "end_time": "2023-10-11T22:27:51.317755",
     "exception": false,
     "start_time": "2023-10-11T22:27:51.313120",
     "status": "completed"
    },
    "tags": []
   },
   "outputs": [],
   "source": []
  }
 ],
 "metadata": {
  "kernelspec": {
   "display_name": "Python 3",
   "language": "python",
   "name": "python3"
  },
  "language_info": {
   "codemirror_mode": {
    "name": "ipython",
    "version": 3
   },
   "file_extension": ".py",
   "mimetype": "text/x-python",
   "name": "python",
   "nbconvert_exporter": "python",
   "pygments_lexer": "ipython3",
   "version": "3.10.12"
  },
  "papermill": {
   "default_parameters": {},
   "duration": 4.436123,
   "end_time": "2023-10-11T22:27:51.841510",
   "environment_variables": {},
   "exception": null,
   "input_path": "__notebook__.ipynb",
   "output_path": "__notebook__.ipynb",
   "parameters": {},
   "start_time": "2023-10-11T22:27:47.405387",
   "version": "2.4.0"
  }
 },
 "nbformat": 4,
 "nbformat_minor": 5
}
